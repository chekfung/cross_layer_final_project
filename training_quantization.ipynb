{
  "cells": [
    {
      "cell_type": "markdown",
      "metadata": {
        "id": "view-in-github",
        "colab_type": "text"
      },
      "source": [
        "<a href=\"https://colab.research.google.com/github/chekfung/cross_layer_final_project/blob/main/training_quantization.ipynb\" target=\"_parent\"><img src=\"https://colab.research.google.com/assets/colab-badge.svg\" alt=\"Open In Colab\"/></a>"
      ]
    },
    {
      "cell_type": "markdown",
      "metadata": {
        "id": "DWCSJNoXXjMU"
      },
      "source": [
        "# Source Code"
      ]
    },
    {
      "cell_type": "markdown",
      "metadata": {
        "id": "IJuqknGwXjMW"
      },
      "source": [
        "## Imports Needed Throughout the Project"
      ]
    },
    {
      "cell_type": "code",
      "execution_count": 35,
      "metadata": {
        "id": "B-AzI0DdXjMY"
      },
      "outputs": [],
      "source": [
        "# All Imports \n",
        "import sys\n",
        "import numpy as np\n",
        "import copy\n",
        "import matplotlib.pyplot as plt\n",
        "import torch\n",
        "import torch.nn as nn\n",
        "import torchvision.datasets as dsets\n",
        "import torchvision.transforms as transforms\n",
        "from torch.autograd import Variable\n",
        "from google.colab import files\n",
        "\n",
        "# argument parser\n",
        "import easydict"
      ]
    },
    {
      "cell_type": "markdown",
      "metadata": {
        "id": "ItgEiUWPXjMa"
      },
      "source": [
        "## Get and Download Datasets"
      ]
    },
    {
      "cell_type": "code",
      "execution_count": 36,
      "metadata": {
        "id": "wWPbK4uKXjMb"
      },
      "outputs": [],
      "source": [
        "# MNIST Dataset (Images and Labels)\n",
        "train_set = dsets.FashionMNIST(\n",
        "    root = './data/FashionMNIST',\n",
        "    train = True,\n",
        "    download = True,\n",
        "    transform = transforms.Compose([\n",
        "        transforms.ToTensor()                                 \n",
        "    ])\n",
        ")\n",
        "\n",
        "test_set = dsets.FashionMNIST(\n",
        "    root = './data/FashionMNIST',\n",
        "    train = False,\n",
        "    download = True,\n",
        "    transform = transforms.Compose([\n",
        "        transforms.ToTensor()                                 \n",
        "    ])\n",
        ")"
      ]
    },
    {
      "cell_type": "markdown",
      "metadata": {
        "id": "QOYytU77XjMc"
      },
      "source": [
        "## More Helper Code for Training and Testing Accuracy"
      ]
    },
    {
      "cell_type": "code",
      "execution_count": 37,
      "metadata": {
        "id": "QcNG3HYC7dJk"
      },
      "outputs": [],
      "source": [
        "def fuse_conv_bn(model,out_model):\n",
        "\n",
        "  conv_layer = None\n",
        "  count = 0\n",
        "\n",
        "  # 1. for loop to collect all Conv layers\n",
        "  # 2. for loop to collect all BatchNorm layers\n",
        "  for layer in model.modules():\n",
        "    \n",
        "    if isinstance(layer, nn.BatchNorm2d):\n",
        "\n",
        "      conv_size = conv_layer.weight.size()\n",
        "\n",
        "\n",
        "      with torch.no_grad():\n",
        "        for i in range(conv_size[0]):\n",
        "\n",
        "          \n",
        "          # get the conv2d weights\n",
        "          weights = conv_layer.weight[i]\n",
        "\n",
        "\n",
        "          denominator = torch.sqrt(layer.eps+layer.running_var)\n",
        "          gamma = layer.weight[i]\n",
        "          beta = layer.bias[i]\n",
        "          \n",
        "\n",
        "          for j in range(conv_size[1]):\n",
        "            for k in range(conv_size[2]):\n",
        "              for l in range(conv_size[3]):\n",
        "                # update out_model layer[count]\n",
        "\n",
        "                if count == 0:\n",
        "                  out_model.conv1.weight[i][j][k][l] = gamma * conv_layer.weight[i][j][k][l]  / denominator[i]  \n",
        "                else:\n",
        "                  out_model.conv2.weight[i][j][k][l] = gamma * conv_layer.weight[i][j][k][l]  / denominator[i]  \n",
        "\n",
        "          # In i loop for bias since only 1D\n",
        "          if count == 0:\n",
        "            out_model.conv1.bias[i] = (gamma * (conv_layer.bias[i] - layer.running_mean[i])  / denominator[i]) + beta\n",
        "          else:\n",
        "            out_model.conv2.bias[i] = (gamma * (conv_layer.bias[i] - layer.running_mean[i])  / denominator[i]) + beta\n",
        "\n",
        "        count += 1\n",
        "\n",
        "    conv_layer = layer # conv2d\n"
      ]
    },
    {
      "cell_type": "markdown",
      "metadata": {
        "id": "LzSo2kcrXjMe"
      },
      "source": [
        "## FP32 Model "
      ]
    },
    {
      "cell_type": "code",
      "execution_count": 38,
      "metadata": {
        "id": "vlRcw7IMXjMg"
      },
      "outputs": [],
      "source": [
        "class MyConvNet_FP32(nn.Module):\n",
        "    def __init__(self, args):\n",
        "        super(MyConvNet_FP32, self).__init__()\n",
        "        # Layer 1\n",
        "        self.conv1 = nn.Conv2d(1, 16, kernel_size=3, stride=1, padding=1)\n",
        "        self.bn1   = nn.BatchNorm2d(16)\n",
        "        self.act1  = nn.ReLU(inplace=True)\n",
        "        self.pool1 = nn.MaxPool2d(kernel_size=2)\n",
        "\n",
        "        # Layer 2\n",
        "        self.conv2 = nn.Conv2d(16, 32, kernel_size=3, stride=1, padding=1)\n",
        "        self.bn2   = nn.BatchNorm2d(32)\n",
        "        self.act2  = nn.ReLU(inplace=True)\n",
        "        self.pool2 = nn.MaxPool2d(kernel_size=2)\n",
        "\n",
        "        # Layer 3\n",
        "        self.lin2  = nn.Linear(7*7*32, 10)\n",
        "\n",
        "    def forward(self, x):\n",
        "        # Layer 1\n",
        "        c1 = self.conv1(x)\n",
        "        b1  = self.bn1(c1)\n",
        "        a1  = self.act1(b1)\n",
        "        p1  = self.pool1(a1)\n",
        "\n",
        "        # Layer 2\n",
        "        c2  = self.conv2(p1)\n",
        "        b2  = self.bn2(c2)\n",
        "        a2  = self.act2(b2)\n",
        "        p2  = self.pool2(a2)\n",
        "\n",
        "        # Flatten and Layer 3\n",
        "        flt = p2.view(p2.size(0), -1)\n",
        "        out = self.lin2(flt)\n",
        "        return out\n",
        "  \n",
        "# model = MyConvNet(args)\n",
        "# model = model.cuda()"
      ]
    },
    {
      "cell_type": "markdown",
      "metadata": {
        "id": "SlSJ4lJwXjMh"
      },
      "source": [
        "## Quantization Helper Code"
      ]
    },
    {
      "cell_type": "code",
      "execution_count": 39,
      "metadata": {
        "id": "I57BN8KQXjMi"
      },
      "outputs": [],
      "source": [
        "def simple_quantize_val(val, scale_factor, min_val, max_val):\n",
        "  value = torch.round(val / scale_factor)\n",
        "\n",
        "  if (value < min_val):\n",
        "    value = min_val\n",
        "\n",
        "  if (value > max_val):\n",
        "    value = max_val\n",
        "\n",
        "  return (value * scale_factor)\n",
        "\n",
        "def fixed_point_quantize_val(val, num_bits, fractional_bits):\n",
        "  integer_bits = num_bits - fractional_bits - 1 # Subtract one for sign bit\n",
        "  smallest_step_size = 1 / np.power(2, fractional_bits)\n",
        "  largest_number = (np.power(2, integer_bits) - 1) + ((np.power(2, fractional_bits)-1) * smallest_step_size)\n",
        "  smallest_number = -1 * np.power(2, integer_bits)\n",
        "\n",
        "  value = torch.round(val / smallest_step_size) * smallest_step_size\n",
        "\n",
        "  if (value < smallest_number):\n",
        "    value = smallest_number\n",
        "\n",
        "  if (value > largest_number):\n",
        "    value = largest_number\n",
        "\n",
        "  return value\n",
        "\n",
        "# Perhaps slightly optimized version?\n",
        "def fixed_point_quantize_faster(val, smallest_step_size, largest_number, smallest_number):\n",
        "\n",
        "  # Perform Pseudo Quantization\n",
        "  value = torch.round(val / smallest_step_size) * smallest_step_size\n",
        "\n",
        "  # Clamp Values\n",
        "  if (value < smallest_number):\n",
        "    value = smallest_number\n",
        "\n",
        "  if (value > largest_number):\n",
        "    value = largest_number\n",
        "\n",
        "  return value\n",
        "\n",
        "### NOTE: ONLY USE THIS SHIT ###\n",
        "def optimized_tensor_fp_quantize(tens, step_size, largest_num, smallest_num):\n",
        "  # Do everything in tensor operations\n",
        "  new_tensor = torch.round(tens / step_size) * step_size\n",
        "  torch.clamp(new_tensor, min=smallest_num, max=largest_num) \n",
        "  return new_tensor\n",
        "\n",
        "# Right now, only for integer quantization.\n",
        "def quantize_fp_model_weights(model):\n",
        "  count = 0\n",
        "  for layer in model.modules():\n",
        "    if not isinstance(layer, (nn.ReLU, nn.MaxPool2d)) and count != 0:\n",
        "        \n",
        "      with torch.no_grad():\n",
        "        layer.weight.data = optimized_tensor_fp_quantize(layer.weight.data, model.weights_step_size, model.weights_largest_num_representable, model.weights_smallest_num_representable)\n",
        "\n",
        "    count += 1\n",
        "  \n",
        "  return 0\n",
        "\n",
        "def quantize_fp_model_biases(model):\n",
        "  count = 0\n",
        "  for layer in model.modules():\n",
        "    if not isinstance(layer, (nn.ReLU, nn.MaxPool2d)) and count != 0:\n",
        "        \n",
        "      with torch.no_grad():\n",
        "        layer.bias.data = optimized_tensor_fp_quantize(layer.bias.data, model.bias_step_size, model.bias_largest_num_representable, model.bias_smallest_num_representable)\n",
        "\n",
        "    count += 1\n",
        "  \n",
        "  return 0"
      ]
    },
    {
      "cell_type": "code",
      "execution_count": 40,
      "metadata": {
        "id": "ln6bdN1fXjMd"
      },
      "outputs": [],
      "source": [
        "def train_model(arg, model, criterion, optimizer, train_loader, quantize=False):\n",
        "    print(\"---Training started\")\n",
        "    # Training the Model\n",
        "    for epoch in range(arg.epochs):\n",
        "        for i, (images, labels) in enumerate(train_loader):\n",
        "            # Load Images into GPU\n",
        "            images = images.cuda()\n",
        "            labels = Variable(labels).cuda()\n",
        "\n",
        "            # Forward + Backward + Optimize\n",
        "            optimizer.zero_grad()\n",
        "            outputs = model(images)\n",
        "            loss = criterion(outputs, labels)\n",
        "            L1norm = model.parameters()\n",
        "            arr = []\n",
        "\n",
        "            # Calculate L1 Norm (if included in hyperparameters)\n",
        "            if arg.L1norm == True:\n",
        "                for name,param in model.named_parameters():\n",
        "                    if 'weight' in name.split('.'):\n",
        "                        arr.append(param)\n",
        "\n",
        "                L1loss = 0\n",
        "                for Losstmp in arr:\n",
        "                    L1loss = L1loss+Losstmp.abs().mean()\n",
        "\n",
        "                if len(arr) > 0:\n",
        "                    loss = loss+L1loss/len(arr)\n",
        "\n",
        "            if quantize:\n",
        "                # quantize loss\n",
        "                loss.data = optimized_tensor_fp_quantize(loss.data, model.loss_step_size, model.loss_largest_num_representable, model.loss_smallest_num_representable)\n",
        "\n",
        "            # Optimizer Step, Propagate Loss backwards\n",
        "            loss.backward()\n",
        "\n",
        "            if quantize:\n",
        "              \n",
        "                # quantize gradients\n",
        "                for name,param in model.named_parameters():\n",
        "                    # Print BEFORE Gradients\n",
        "                    # print(gradient)\n",
        "\n",
        "                    param.grad.data = optimized_tensor_fp_quantize(param.grad.data, model.gradient_step_size, model.gradient_largest_num_representable, model.gradient_smallest_num_representable)\n",
        "                    \n",
        "                    # Print AFTER Gradients\n",
        "                    # print(gradient)\n",
        "                \n",
        "            optimizer.step()\n",
        "\n",
        "            # # TODO: Need to quantize the biases as well.\n",
        "            if quantize:\n",
        "              quantize_fp_model_weights(model)\n",
        "              quantize_fp_model_biases(model)\n",
        "\n",
        "            if (i + 1) % 600 == 0:\n",
        "                print('Epoch: [% d/% d], Step: [% d/% d], Loss: %.4f'\n",
        "                        % (epoch + 1, arg.epochs, i + 1,\n",
        "                        len(train_set) // arg.batch_size, loss.data.item()))\n",
        "\n",
        "\n",
        "# Gets accuracy given dataset as well as total test loss\n",
        "def get_acc(model, criterion, test_loader, quantized=False):\n",
        "    correct = 0\n",
        "    total = 0\n",
        "\n",
        "    for images, labels in test_loader:\n",
        "        images = images.cuda()\n",
        "        labels = labels.cuda()\n",
        "        outputs = model(images)\n",
        "        testloss = criterion(outputs, labels)\n",
        "        _, predicted = torch.max(outputs.data, 1)\n",
        "        total += labels.size(0)\n",
        "        correct += (predicted == labels).sum()\n",
        "        break\n",
        "\n",
        "    if quantized:\n",
        "      testloss = optimized_tensor_fp_quantize(testloss, model.loss_step_size, model.loss_largest_num_representable, model.loss_smallest_num_representable)\n",
        "\n",
        "    return ((100 * correct / total), testloss)"
      ]
    },
    {
      "cell_type": "markdown",
      "metadata": {
        "id": "mLM8kj7KXjMi"
      },
      "source": [
        "## Quantization Model"
      ]
    },
    {
      "cell_type": "code",
      "execution_count": 41,
      "metadata": {
        "id": "YQn2A92SXjMj"
      },
      "outputs": [],
      "source": [
        "# Assume that we always \n",
        "class MyConvNet_FIXED_POINT(nn.Module):\n",
        "    def __init__(self, args, forwardfp, gradientfp, lossfp, weightsfp, biasfp): #xfp's are tuples of the # of bits in the fp rep & # of fractional bits\n",
        "        super(MyConvNet_FIXED_POINT, self).__init__()\n",
        "\n",
        "\n",
        "        ### gradient FP Parameters ###\n",
        "        self.gradient_fp_bits = gradientfp[0]\n",
        "        self.gradient_int_bits = (gradientfp[0] - 1 - gradientfp[1])\n",
        "        self.gradient_fract_bits = gradientfp[1]\n",
        " \n",
        "        self.gradient_step_size = 1 / np.power(2, gradientfp[1])\n",
        "        self.gradient_largest_num_representable = (np.power(2, self.gradient_int_bits) - 1) + ((np.power(2, self.gradient_fract_bits)-1) * self.gradient_step_size)\n",
        "        self.gradient_smallest_num_representable = -1 * np.power(2, self.gradient_int_bits)\n",
        "        #########################\n",
        "\n",
        "        ### forward FP Parameters ###\n",
        "        self.forward_fp_bits = forwardfp[0]\n",
        "        self.forward_int_bits = (forwardfp[0] - 1 - forwardfp[1])\n",
        "        self.forward_fract_bits = forwardfp[1]\n",
        " \n",
        "        self.forward_step_size = 1 / np.power(2, forwardfp[1])\n",
        "        self.forward_largest_num_representable = (np.power(2, self.forward_int_bits) - 1) + ((np.power(2, self.forward_fract_bits)-1) * self.forward_step_size)\n",
        "        self.forward_smallest_num_representable = -1 * np.power(2, self.forward_int_bits)\n",
        "        #########################\n",
        "\n",
        "        ### Loss FP Parameters ###\n",
        "        self.loss_fp_bits = lossfp[0]\n",
        "        self.loss_int_bits = (lossfp[0] - 1 - lossfp[1])\n",
        "        self.loss_fract_bits = lossfp[1]\n",
        "\n",
        "        self.loss_step_size = 1 / np.power(2, lossfp[1])\n",
        "        self.loss_largest_num_representable = (np.power(2, self.loss_int_bits) - 1) + ((np.power(2, self.loss_fract_bits)-1) * self.loss_step_size)\n",
        "        self.loss_smallest_num_representable = -1 * np.power(2, self.loss_int_bits)\n",
        "        #########################\n",
        "\n",
        "        ### weights FP Parameters ###\n",
        "        self.weights_fp_bits = weightsfp[0]\n",
        "        self.weights_int_bits = (weightsfp[0] - 1 - weightsfp[1])\n",
        "        self.weights_fract_bits = weightsfp[1]\n",
        " \n",
        "        self.weights_step_size = 1 / np.power(2, weightsfp[1])\n",
        "        self.weights_largest_num_representable = (np.power(2, self.weights_int_bits) - 1) + ((np.power(2, self.weights_fract_bits)-1) * self.weights_step_size)\n",
        "        self.weights_smallest_num_representable = -1 * np.power(2, self.weights_int_bits)\n",
        "        #########################\n",
        "\n",
        "        ### bias FP Parameters ###\n",
        "        self.bias_fp_bits = biasfp[0]\n",
        "        self.bias_int_bits = (biasfp[0] - 1 - biasfp[1])\n",
        "        self.bias_fract_bits = biasfp[1]\n",
        " \n",
        "        self.bias_step_size = 1 / np.power(2, biasfp[1])\n",
        "        self.bias_largest_num_representable = (np.power(2, self.bias_int_bits) - 1) + ((np.power(2, self.bias_fract_bits)-1) * self.bias_step_size)\n",
        "        self.bias_smallest_num_representable = -1 * np.power(2, self.bias_int_bits)\n",
        "        #########################\n",
        "\n",
        "        # Layer 1\n",
        "        self.conv1 = nn.Conv2d(1, 16, kernel_size=3, stride=1, padding=1)\n",
        "        self.bn1   = nn.BatchNorm2d(16)\n",
        "        self.act1  = nn.ReLU(inplace=True)\n",
        "        self.pool1 = nn.MaxPool2d(kernel_size=2)\n",
        "\n",
        "        # Layer 2\n",
        "        self.conv2 = nn.Conv2d(16, 32, kernel_size=3, stride=1, padding=1)\n",
        "        self.bn2   = nn.BatchNorm2d(32)\n",
        "        self.act2  = nn.ReLU(inplace=True)\n",
        "        self.pool2 = nn.MaxPool2d(kernel_size=2)\n",
        "\n",
        "        # Layer 3\n",
        "        self.lin2  = nn.Linear(7*7*32, 10)\n",
        "\n",
        "    # AUGMENT FORWARD PASS. forward pass not quantizes every single time we go through\n",
        "    def forward(self, x):\n",
        "        xq = optimized_tensor_fp_quantize(x, self.forward_step_size, self.forward_largest_num_representable, self.forward_smallest_num_representable)\n",
        "        # Layer 1\n",
        "        c1 = self.conv1(xq)\n",
        "        c1q = optimized_tensor_fp_quantize(c1, self.forward_step_size, self.forward_largest_num_representable, self.forward_smallest_num_representable)\n",
        "        b1  = self.bn1(c1q)\n",
        "        b1q = optimized_tensor_fp_quantize(b1, self.forward_step_size, self.forward_largest_num_representable, self.forward_smallest_num_representable)\n",
        "        a1  = self.act1(b1q)\n",
        "        p1  = self.pool1(a1)\n",
        " \n",
        "        # Layer 2\n",
        "        c2  = self.conv2(p1)\n",
        "        c2q = optimized_tensor_fp_quantize(c2, self.forward_step_size, self.forward_largest_num_representable, self.forward_smallest_num_representable)\n",
        "        b2  = self.bn2(c2q)\n",
        "        b2q = optimized_tensor_fp_quantize(b2, self.forward_step_size, self.forward_largest_num_representable, self.forward_smallest_num_representable)\n",
        "        a2  = self.act2(b2q)\n",
        "        p2  = self.pool2(a2)\n",
        " \n",
        "        # Flatten and Layer 3\n",
        "        flt = p2.view(p2.size(0), -1)\n",
        "        out = self.lin2(flt)\n",
        "        out_new = optimized_tensor_fp_quantize(out, self.forward_step_size, self.forward_largest_num_representable, self.forward_smallest_num_representable)\n",
        "        return out"
      ]
    },
    {
      "cell_type": "code",
      "execution_count": 42,
      "metadata": {
        "id": "8t8Zej6m3ufg"
      },
      "outputs": [],
      "source": [
        "class QuantizedConvNet(nn.Module):\n",
        "    def __init__(self, model_fp32):\n",
        "        super(QuantizedConvNet, self).__init__()\n",
        "        # QuantStub converts tensors from floating point to quantized.\n",
        "        # This will only be used for inputs.\n",
        "        self.quant = torch.quantization.QuantStub()\n",
        "        # DeQuantStub converts tensors from quantized to floating point.\n",
        "        # This will only be used for outputs.\n",
        "        self.dequant = torch.quantization.DeQuantStub()\n",
        "        # FP32 model\n",
        "        self.model_fp32 = model_fp32\n",
        "\n",
        "    def forward(self, x):\n",
        "        # manually specify where tensors will be converted from floating\n",
        "        # point to quantized in the quantized model\n",
        "        x = self.quant(x)\n",
        "        x = self.model_fp32(x)\n",
        "        # manually specify where tensors will be converted from quantized\n",
        "        # to floating point in the quantized model\n",
        "        x = self.dequant(x)\n",
        "        return x"
      ]
    },
    {
      "cell_type": "markdown",
      "metadata": {
        "id": "EGjcFMQ5XjMj"
      },
      "source": [
        "# Test Code Here\n"
      ]
    },
    {
      "cell_type": "code",
      "execution_count": 43,
      "metadata": {
        "id": "RjT2c_f9XjMk"
      },
      "outputs": [],
      "source": [
        "# Hyper Parameter for FashionMNIST\n",
        "input_size = 784\n",
        "num_classes = 10\n",
        "\n"
      ]
    },
    {
      "cell_type": "markdown",
      "source": [
        "## Example of instantiating a model, training it with given hyperparameters, etc"
      ],
      "metadata": {
        "id": "5kUXftre3oYu"
      }
    },
    {
      "cell_type": "code",
      "execution_count": 44,
      "metadata": {
        "colab": {
          "base_uri": "https://localhost:8080/",
          "height": 1000
        },
        "id": "IlnS6XwxXjMk",
        "outputId": "e9586ea2-2f58-456a-a31b-e726d95ea82a"
      },
      "outputs": [
        {
          "output_type": "stream",
          "name": "stdout",
          "text": [
            "64\n",
            "32\n",
            "---Training started\n",
            "Epoch: [ 1/ 1], Step: [ 600/ 3750], Loss: 0.3976\n",
            "Epoch: [ 1/ 1], Step: [ 1200/ 3750], Loss: 0.3463\n",
            "Epoch: [ 1/ 1], Step: [ 1800/ 3750], Loss: 1.1999\n",
            "Epoch: [ 1/ 1], Step: [ 2400/ 3750], Loss: 0.4780\n",
            "Epoch: [ 1/ 1], Step: [ 3000/ 3750], Loss: 0.3860\n",
            "Epoch: [ 1/ 1], Step: [ 3600/ 3750], Loss: 1.0294\n",
            "Test Accuracy: 87.5\n",
            "Test Loss: 0.2588944137096405\n",
            "32\n",
            "16\n",
            "---Training started\n",
            "Epoch: [ 1/ 1], Step: [ 600/ 3750], Loss: 0.2637\n",
            "Epoch: [ 1/ 1], Step: [ 1200/ 3750], Loss: 0.3453\n",
            "Epoch: [ 1/ 1], Step: [ 1800/ 3750], Loss: 0.4897\n",
            "Epoch: [ 1/ 1], Step: [ 2400/ 3750], Loss: 0.0842\n",
            "Epoch: [ 1/ 1], Step: [ 3000/ 3750], Loss: 0.5559\n",
            "Epoch: [ 1/ 1], Step: [ 3600/ 3750], Loss: 0.5215\n",
            "Test Accuracy: 87.5\n",
            "Test Loss: 0.36041259765625\n",
            "16\n",
            "8\n",
            "---Training started\n",
            "Epoch: [ 1/ 1], Step: [ 600/ 3750], Loss: 2.6016\n",
            "Epoch: [ 1/ 1], Step: [ 1200/ 3750], Loss: 1.9648\n",
            "Epoch: [ 1/ 1], Step: [ 1800/ 3750], Loss: 2.0898\n",
            "Epoch: [ 1/ 1], Step: [ 2400/ 3750], Loss: 2.1602\n",
            "Epoch: [ 1/ 1], Step: [ 3000/ 3750], Loss: 2.3594\n",
            "Epoch: [ 1/ 1], Step: [ 3600/ 3750], Loss: 1.9648\n",
            "Test Accuracy: 12.5\n",
            "Test Loss: 2.203125\n",
            "8\n",
            "4\n",
            "---Training started\n",
            "Epoch: [ 1/ 1], Step: [ 600/ 3750], Loss: 2.3125\n",
            "Epoch: [ 1/ 1], Step: [ 1200/ 3750], Loss: 2.3125\n",
            "Epoch: [ 1/ 1], Step: [ 1800/ 3750], Loss: 2.3125\n",
            "Epoch: [ 1/ 1], Step: [ 2400/ 3750], Loss: 2.3125\n",
            "Epoch: [ 1/ 1], Step: [ 3000/ 3750], Loss: 2.3125\n",
            "Epoch: [ 1/ 1], Step: [ 3600/ 3750], Loss: 2.3125\n",
            "Test Accuracy: 0.0\n",
            "Test Loss: 2.3125\n",
            "4\n",
            "2\n",
            "---Training started\n",
            "Epoch: [ 1/ 1], Step: [ 600/ 3750], Loss: 2.2500\n",
            "Epoch: [ 1/ 1], Step: [ 1200/ 3750], Loss: 2.2500\n",
            "Epoch: [ 1/ 1], Step: [ 1800/ 3750], Loss: 2.2500\n",
            "Epoch: [ 1/ 1], Step: [ 2400/ 3750], Loss: 2.2500\n",
            "Epoch: [ 1/ 1], Step: [ 3000/ 3750], Loss: 2.2500\n",
            "Epoch: [ 1/ 1], Step: [ 3600/ 3750], Loss: 2.2500\n",
            "Test Accuracy: 0.0\n",
            "Test Loss: 2.25\n"
          ]
        },
        {
          "output_type": "display_data",
          "data": {
            "text/plain": [
              "<Figure size 432x288 with 1 Axes>"
            ],
            "image/png": "[encoded data removed]"
          },
          "metadata": {
            "needs_background": "light"
          }
        }
      ],
      "source": [
        "args = easydict.EasyDict({\n",
        "        \"batch_size\": 16,\n",
        "        \"epochs\": 1,\n",
        "        \"lr\": 0.001,\n",
        "        \"enable_cuda\" : True,\n",
        "        \"L1norm\" : False,\n",
        "        \"simpleNet\" : True,\n",
        "        \"activation\" : \"relu\", #relu, tanh, sigmoid\n",
        "        \"train_curve\" : True, \n",
        "        \"optimization\" :\"Adam\"\n",
        "})\n",
        "\n",
        "# Dataset Loader (Input Pipeline)\n",
        "quantize = True\n",
        "train_loader = torch.utils.data.DataLoader(dataset = train_set, batch_size = args.batch_size, shuffle = True)\n",
        "test_loader = torch.utils.data.DataLoader(dataset = test_set, batch_size = args.batch_size, shuffle = False)\n",
        "\n",
        "num_bits_test = [64, 32, 16, 8, 4]\n",
        "num_fractional_bits = [32, 16, 8, 4, 2]\n",
        "acc = []\n",
        "\n",
        "for (num_bits,num_fractional_bits) in zip(num_bits_test, num_fractional_bits):\n",
        "  print(num_bits)\n",
        "  print(num_fractional_bits)\n",
        "  forwardfp= (num_bits, num_fractional_bits) \n",
        "  gradientfp= (num_bits, num_fractional_bits) \n",
        "  lossfp= (num_bits, num_fractional_bits) \n",
        "  weightsfp= (num_bits, num_fractional_bits) \n",
        "  biasfp=(num_bits, num_fractional_bits) \n",
        "\n",
        "  # Declare Model\n",
        "  model = MyConvNet_FIXED_POINT(args, forwardfp, gradientfp, lossfp, weightsfp, biasfp).cuda()\n",
        "  #model = MyConvNet_FP32(args).cuda()\n",
        "\n",
        "  criterion = nn.CrossEntropyLoss().cuda()\n",
        "  optimizer = torch.optim.Adam(model.parameters(), lr = args.lr) \n",
        "\n",
        "  # Training\n",
        "  train_model(args, model, criterion, optimizer, train_loader, quantize)\n",
        "\n",
        "  # Need to quantize the model afterwards\n",
        "  quantize_fp_model_weights(model)\n",
        "\n",
        "  # Testing ARC\n",
        "  test_acc, test_loss = get_acc(model, criterion, test_loader, quantize)\n",
        "  print(\"Test Accuracy: {}\".format(test_acc))\n",
        "  print(\"Test Loss: {}\".format(test_loss))\n",
        "\n",
        "  acc.append(test_acc.item())\n",
        "\n",
        "plt.figure(0)\n",
        "plt.plot(num_bits_test, acc)\n",
        "plt.title(\"Varying Number of Quantized Bits\")\n",
        "plt.xlabel(\"Number of Quantized Bits\")\n",
        "plt.ylabel(\"Acc (%)\")\n",
        "plt.show()\n"
      ]
    },
    {
      "cell_type": "markdown",
      "metadata": {
        "id": "4z9Q0vi95Alz"
      },
      "source": [
        "## Preston's Training of Model"
      ]
    },
    {
      "cell_type": "code",
      "execution_count": 45,
      "metadata": {
        "id": "fgEQBWHy5FD-"
      },
      "outputs": [],
      "source": [
        "# cuda_device = torch.device(\"cuda:0\")\n",
        "# cpu_device = torch.device(\"cpu:0\")\n",
        "\n",
        "# # Initial model\n",
        "# FP_model = MyConvNet_FP32(args).cuda()\n",
        "# FP_fused_model = MyConvNet_FP32(args)\n",
        "\n",
        "# # Training stuff\n",
        "# criterion = nn.CrossEntropyLoss().cuda()\n",
        "# optimizer = torch.optim.SGD(FP_model.parameters(), lr = learning_rate) \n",
        "\n",
        "# train_model(FP_model, criterion, optimizer, train_loader)\n",
        "\n"
      ]
    },
    {
      "cell_type": "code",
      "execution_count": 46,
      "metadata": {
        "id": "P63UTvuTHjKT"
      },
      "outputs": [],
      "source": [
        "# test_acc_FP, test_loss_FP = get_acc(FP_model, criterion, test_loader)\n",
        "# print(\"Test Accuracy: {}\".format(test_acc_FP))\n",
        "# print(\"Test Loss: {}\".format(test_loss_FP))\n"
      ]
    },
    {
      "cell_type": "code",
      "execution_count": 47,
      "metadata": {
        "id": "rJYZN0ky_9i6"
      },
      "outputs": [],
      "source": [
        "\n",
        "# copy_models(FP_model,FP_fused_model)   \n",
        "# fuse_conv_bn(FP_model,FP_fused_model)\n",
        "\n",
        "# quantized_model = QuantizedConvNet(model_fp32=FP_fused_model).to(cpu_device)\n",
        "\n",
        "# quantization_config = torch.quantization.get_default_qconfig(\"fbgemm\")\n",
        "# quantized_model.qconfig = quantization_config\n",
        "# torch.quantization.prepare_qat(quantized_model, inplace=True)\n",
        "\n",
        "# quantized_model.to(cuda_device)\n",
        "# train_model(quantized_model, criterion, optimizer, train_loader)\n",
        "# # quantized_model.to(cpu_device)\n",
        "\n",
        "# # quantized_model = torch.quantization.convert(quantized_model, inplace=True)\n",
        "\n"
      ]
    },
    {
      "cell_type": "code",
      "execution_count": 48,
      "metadata": {
        "id": "QhdEVwvJHnhl"
      },
      "outputs": [],
      "source": [
        "\n",
        "\n",
        "# test_acc, test_loss = get_acc(quantized_model, criterion, test_loader)\n",
        "# print(\"Test Accuracy: {}\".format(test_acc))\n",
        "# print(\"Test Loss: {}\".format(test_loss))\n",
        "\n"
      ]
    }
  ],
  "metadata": {
    "accelerator": "GPU",
    "colab": {
      "provenance": [],
      "include_colab_link": true
    },
    "gpuClass": "standard",
    "kernelspec": {
      "display_name": "Python 3",
      "name": "python3"
    },
    "language_info": {
      "name": "python"
    }
  },
  "nbformat": 4,
  "nbformat_minor": 0
}